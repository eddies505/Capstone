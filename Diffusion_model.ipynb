{
 "cells": [
  {
   "cell_type": "code",
   "execution_count": 1,
   "id": "951fa5eb",
   "metadata": {},
   "outputs": [
    {
     "name": "stderr",
     "output_type": "stream",
     "text": [
      "C:\\Users\\nehag\\anaconda3\\lib\\site-packages\\tensorflow_addons\\utils\\tfa_eol_msg.py:23: UserWarning: \n",
      "\n",
      "TensorFlow Addons (TFA) has ended development and introduction of new features.\n",
      "TFA has entered a minimal maintenance and release mode until a planned end of life in May 2024.\n",
      "Please modify downstream libraries to take dependencies from other repositories in our TensorFlow community (e.g. Keras, Keras-CV, and Keras-NLP). \n",
      "\n",
      "For more information see: https://github.com/tensorflow/addons/issues/2807 \n",
      "\n",
      "  warnings.warn(\n",
      "C:\\Users\\nehag\\anaconda3\\lib\\site-packages\\tensorflow_addons\\utils\\ensure_tf_install.py:53: UserWarning: Tensorflow Addons supports using Python ops for all Tensorflow versions above or equal to 2.12.0 and strictly below 2.15.0 (nightly versions are not supported). \n",
      " The versions of TensorFlow you are currently using is 2.10.0 and is not supported. \n",
      "Some things might work, some things might not.\n",
      "If you were to encounter a bug, do not file an issue.\n",
      "If you want to make sure you're using a tested and supported configuration, either change the TensorFlow version or the TensorFlow Addons's version. \n",
      "You can find the compatibility matrix in TensorFlow Addon's readme:\n",
      "https://github.com/tensorflow/addons\n",
      "  warnings.warn(\n"
     ]
    }
   ],
   "source": [
    "import os\n",
    "import keras\n",
    "from keras import layers\n",
    "import numpy as np\n",
    "import matplotlib.pyplot as plt\n",
    "\n",
    "# If you need ops from TensorFlow, import it like this:\n",
    "from tensorflow.python.ops import math_ops  # You can adjust the path based on your TensorFlow version\n",
    "\n",
    "import numpy as np\n",
    "import pandas as pd\n",
    "import tensorflow as tf\n",
    "import tensorflow.keras.layers as L\n",
    "import tensorflow_addons as tfa\n",
    "import glob, random, os, warnings\n",
    "import matplotlib.pyplot as plt\n",
    "from sklearn.metrics import confusion_matrix, classification_report\n",
    "import seaborn as sns\n"
   ]
  },
  {
   "cell_type": "code",
   "execution_count": 2,
   "id": "cd2bf9bb",
   "metadata": {},
   "outputs": [
    {
     "name": "stdout",
     "output_type": "stream",
     "text": [
      "Size of X_train: 744\n",
      "Size of y_train: 744\n"
     ]
    },
    {
     "name": "stderr",
     "output_type": "stream",
     "text": [
      "C:\\Users\\nehag\\AppData\\Local\\Temp\\ipykernel_22688\\3386135084.py:20: VisibleDeprecationWarning: Creating an ndarray from ragged nested sequences (which is a list-or-tuple of lists-or-tuples-or ndarrays with different lengths or shapes) is deprecated. If you meant to do this, you must specify 'dtype=object' when creating the ndarray.\n",
      "  return np.array(images), np.array(labels)\n"
     ]
    }
   ],
   "source": [
    "import os\n",
    "import cv2\n",
    "import numpy as np\n",
    "import re\n",
    "\n",
    "def load_images_from_folder(folder):\n",
    "    images = []\n",
    "    labels = []\n",
    "    for filename in os.listdir(folder):\n",
    "        img_path = os.path.join(folder, filename)\n",
    "        if os.path.isfile(img_path):\n",
    "            img = cv2.imread(img_path)\n",
    "            if img is not None:\n",
    "                images.append(img)\n",
    "                # Extract the label from the filename using a regular expression\n",
    "                match = re.search(r'\\d{4}-\\d{2}-\\d{2}', filename)\n",
    "                if match:\n",
    "                    label = match.group(0)\n",
    "                    labels.append(label)\n",
    "    return np.array(images), np.array(labels)\n",
    "\n",
    "# Replace 'YourDatasetFolder' with the actual path to your dataset folder\n",
    "dataset_folder = 'images_old'\n",
    "\n",
    "x_train, y_train = load_images_from_folder(dataset_folder)\n",
    "\n",
    "# Print the size of the loaded data\n",
    "print(\"Size of X_train:\", len(x_train))\n",
    "print(\"Size of y_train:\", len(y_train))"
   ]
  },
  {
   "cell_type": "code",
   "execution_count": 3,
   "id": "77685c88",
   "metadata": {},
   "outputs": [],
   "source": [
    "def data_augment(image):\n",
    "    p_spatial = tf.random.uniform([], 0, 1.0, dtype = tf.float32)\n",
    "    p_rotate = tf.random.uniform([], 0, 1.0, dtype = tf.float32)\n",
    " \n",
    "    image = tf.image.random_flip_left_right(image)\n",
    "    image = tf.image.random_flip_up_down(image)\n",
    "    \n",
    "    if p_spatial > .75:\n",
    "        image = tf.image.transpose(image)\n",
    "        \n",
    "    # Rotates\n",
    "    if p_rotate > .75:\n",
    "        image = tf.image.rot90(image, k = 3) # rotate 270º\n",
    "    elif p_rotate > .5:\n",
    "        image = tf.image.rot90(image, k = 2) # rotate 180º\n",
    "    elif p_rotate > .25:\n",
    "        image = tf.image.rot90(image, k = 1) # rotate 90º\n",
    "        \n",
    "    return image"
   ]
  },
  {
   "cell_type": "code",
   "execution_count": 4,
   "id": "854f3462",
   "metadata": {},
   "outputs": [
    {
     "name": "stdout",
     "output_type": "stream",
     "text": [
      "Shape of X_train: (595,)\n",
      "Shape of X_test: (149,)\n",
      "Shape of y_train: (595,)\n",
      "Shape of y_test: (149,)\n"
     ]
    }
   ],
   "source": [
    "from sklearn.model_selection import train_test_split\n",
    "from sklearn.preprocessing import LabelEncoder\n",
    "\n",
    "# Convert date labels to numerical values\n",
    "label_encoder = LabelEncoder()\n",
    "y_train_encoded = label_encoder.fit_transform(y_train)\n",
    "\n",
    "# Split the data into training and testing sets\n",
    "X_train, X_test, y_train_encoded, y_test_encoded = train_test_split(x_train, y_train_encoded, test_size=0.2, random_state=42)\n",
    "\n",
    "# Print the shapes of training and testing sets\n",
    "print(\"Shape of X_train:\", X_train.shape)\n",
    "print(\"Shape of X_test:\", X_test.shape)\n",
    "print(\"Shape of y_train:\", y_train_encoded.shape)\n",
    "print(\"Shape of y_test:\", y_test_encoded.shape)\n"
   ]
  },
  {
   "cell_type": "code",
   "execution_count": 5,
   "id": "4c3b97e5",
   "metadata": {},
   "outputs": [
    {
     "name": "stdout",
     "output_type": "stream",
     "text": [
      "Size of X_train: (595,)\n",
      "Unique labels in y_train: ['2020-01-01' '2020-01-02' '2020-01-03' '2020-01-04' '2020-01-05'\n",
      " '2020-01-06' '2020-01-07' '2020-01-08' '2020-01-09' '2020-01-10'\n",
      " '2020-01-11' '2020-01-12' '2020-01-13' '2020-01-14' '2020-01-15'\n",
      " '2020-01-16' '2020-01-17' '2020-01-18' '2020-01-19' '2020-01-20'\n",
      " '2020-01-21' '2020-01-22' '2020-01-23' '2020-01-24' '2020-01-25'\n",
      " '2020-01-26' '2020-01-27' '2020-01-28' '2020-01-29' '2020-01-30'\n",
      " '2020-01-31']\n",
      "Number of unique labels in y_train: 31\n"
     ]
    }
   ],
   "source": [
    "import numpy as np\n",
    "\n",
    "# Print the size and shape of X_train\n",
    "print(\"Size of X_train:\", X_train.shape)\n",
    "\n",
    "# Print the unique labels in y_train\n",
    "print(\"Unique labels in y_train:\", np.unique(y_train))\n",
    "\n",
    "# Print the number of unique labels in y_train\n",
    "print(\"Number of unique labels in y_train:\", len(np.unique(y_train)))\n"
   ]
  },
  {
   "cell_type": "code",
   "execution_count": 6,
   "id": "e2f3a8c4",
   "metadata": {},
   "outputs": [
    {
     "name": "stdout",
     "output_type": "stream",
     "text": [
      "Unique encoded labels in y_train: [ 0  1  2  3  4  5  6  7  8  9 10 11 12 13 14 15 16 17 18 19 20 21 22 23\n",
      " 24 25 26 27 28 29 30]\n",
      "Number of unique encoded labels in y_train: 31\n"
     ]
    }
   ],
   "source": [
    "from sklearn.preprocessing import LabelEncoder\n",
    "\n",
    "# Convert date strings to numeric labels\n",
    "label_encoder = LabelEncoder()\n",
    "y_train_encoded = label_encoder.fit_transform(y_train_encoded)\n",
    "\n",
    "# Print the unique encoded labels in y_train\n",
    "print(\"Unique encoded labels in y_train:\", np.unique(y_train_encoded))\n",
    "\n",
    "# Print the number of unique encoded labels in y_train\n",
    "print(\"Number of unique encoded labels in y_train:\", len(np.unique(y_train_encoded)))\n"
   ]
  },
  {
   "cell_type": "code",
   "execution_count": 7,
   "id": "76ec5822",
   "metadata": {},
   "outputs": [
    {
     "name": "stdout",
     "output_type": "stream",
     "text": [
      "New shape of X_train: (595, 224, 224, 3)\n"
     ]
    }
   ],
   "source": [
    "import cv2\n",
    "\n",
    "# Resize images to (224, 224, 3)\n",
    "X_train_resized = [cv2.resize(img, (224, 224)) for img in X_train]\n",
    "\n",
    "# Convert the list to a NumPy array\n",
    "X_train_resized = np.array(X_train_resized)\n",
    "\n",
    "# Verify the new shape\n",
    "print(\"New shape of X_train:\", X_train_resized.shape)\n"
   ]
  },
  {
   "cell_type": "code",
   "execution_count": 8,
   "id": "ff803b49",
   "metadata": {},
   "outputs": [
    {
     "name": "stdout",
     "output_type": "stream",
     "text": [
      "New shape of X_train: (149, 224, 224, 3)\n"
     ]
    }
   ],
   "source": [
    "import cv2\n",
    "\n",
    "# Resize images to (224, 224, 3)\n",
    "X_test_resized = [cv2.resize(img, (224, 224)) for img in X_test]\n",
    "\n",
    "# Convert the list to a NumPy array\n",
    "X_test_resized = np.array(X_test_resized)\n",
    "\n",
    "# Verify the new shape\n",
    "print(\"New shape of X_train:\", X_test_resized.shape)\n"
   ]
  },
  {
   "cell_type": "code",
   "execution_count": 9,
   "id": "e4bea376",
   "metadata": {},
   "outputs": [
    {
     "name": "stdout",
     "output_type": "stream",
     "text": [
      "x_train shape: (595, 224, 224, 3) - y_train shape: (595,)\n",
      "x_test shape: (149, 224, 224, 3) - y_test shape: (149,)\n"
     ]
    }
   ],
   "source": [
    "print(f\"x_train shape: {X_train_resized.shape} - y_train shape: {y_train_encoded.shape}\")\n",
    "print(f\"x_test shape: {X_test_resized.shape} - y_test shape: {y_test_encoded.shape}\")"
   ]
  },
  {
   "cell_type": "code",
   "execution_count": 10,
   "id": "44586624",
   "metadata": {},
   "outputs": [],
   "source": [
    "import numpy as np\n",
    "import pandas as pd\n",
    "\n",
    "# Assuming you have an array of image IDs\n",
    "image_ids = y_train_encoded\n",
    "\n",
    "# Reshape the 4D array into a 2D array\n",
    "reshaped_array = X_train_resized.reshape(X_train_resized.shape[0], -1)\n",
    "\n",
    "# Create a DataFrame with the reshaped array\n",
    "df = pd.DataFrame(reshaped_array, columns=[f'pixel_{i}' for i in range(reshaped_array.shape[1])])\n",
    "\n",
    "# Add image IDs to the DataFrame\n",
    "df['image_id'] = image_ids"
   ]
  },
  {
   "cell_type": "code",
   "execution_count": 11,
   "id": "e81d5a69",
   "metadata": {},
   "outputs": [],
   "source": [
    "x_train=X_train_resized\n",
    "x_test=X_test_resized\n",
    "y_train=y_train_encoded\n",
    "y_test=y_test_encoded"
   ]
  },
  {
   "cell_type": "code",
   "execution_count": 12,
   "id": "97c64641",
   "metadata": {},
   "outputs": [],
   "source": [
    "import keras\n",
    "import tensorflow as tf\n",
    "\n",
    "import tensorflow.keras\n",
    "from tensorflow.keras.models import Sequential\n",
    "from tensorflow.keras.layers import Dense, Activation, Dropout, Flatten, Conv2D, MaxPooling2D\n",
    "from tensorflow.keras.layers import Input, Add, Dense, Activation, ZeroPadding2D, BatchNormalization, Flatten, Conv2D, AveragePooling2D, MaxPooling2D, GlobalMaxPooling2D,MaxPool2D\n",
    "from tensorflow.keras.initializers import glorot_uniform\n",
    "from tensorflow.keras import layers\n",
    "from tensorflow.keras.models import Model, load_model\n",
    "from tensorflow.keras.preprocessing import image\n",
    "from keras.callbacks import ReduceLROnPlateau"
   ]
  },
  {
   "cell_type": "markdown",
   "id": "b950bb9d",
   "metadata": {},
   "source": [
    "# Implementation of the Diffusion architecture"
   ]
  },
  {
   "cell_type": "code",
   "execution_count": 20,
   "id": "c856401b",
   "metadata": {},
   "outputs": [
    {
     "name": "stdout",
     "output_type": "stream",
     "text": [
      "(595, 224, 224, 3)\n",
      "(149, 224, 224, 3)\n",
      "(595,)\n",
      "(149,)\n"
     ]
    }
   ],
   "source": [
    "print(x_train.shape)\n",
    "print(x_test.shape)\n",
    "print(y_train.shape)\n",
    "print(y_test.shape)"
   ]
  },
  {
   "cell_type": "code",
   "execution_count": 19,
   "id": "51003687",
   "metadata": {},
   "outputs": [
    {
     "name": "stdout",
     "output_type": "stream",
     "text": [
      "Model: \"sequential_1\"\n",
      "_________________________________________________________________\n",
      " Layer (type)                Output Shape              Param #   \n",
      "=================================================================\n",
      " conv2d_3 (Conv2D)           (None, 222, 222, 64)      1792      \n",
      "                                                                 \n",
      " max_pooling2d_2 (MaxPooling  (None, 111, 111, 64)     0         \n",
      " 2D)                                                             \n",
      "                                                                 \n",
      " conv2d_4 (Conv2D)           (None, 109, 109, 128)     73856     \n",
      "                                                                 \n",
      " max_pooling2d_3 (MaxPooling  (None, 54, 54, 128)      0         \n",
      " 2D)                                                             \n",
      "                                                                 \n",
      " conv2d_5 (Conv2D)           (None, 52, 52, 256)       295168    \n",
      "                                                                 \n",
      " flatten_1 (Flatten)         (None, 692224)            0         \n",
      "                                                                 \n",
      " dense_2 (Dense)             (None, 512)               354419200 \n",
      "                                                                 \n",
      " dense_3 (Dense)             (None, 31)                15903     \n",
      "                                                                 \n",
      "=================================================================\n",
      "Total params: 354,805,919\n",
      "Trainable params: 354,805,919\n",
      "Non-trainable params: 0\n",
      "_________________________________________________________________\n"
     ]
    }
   ],
   "source": [
    "from tensorflow.keras import layers, models\n",
    "def build_diffusion_model(input_shape=(224, 224, 3), num_classes=31):\n",
    "    model = models.Sequential()\n",
    "\n",
    "    model.add(layers.Conv2D(64, (3, 3), activation='relu', input_shape=input_shape))\n",
    "    model.add(layers.MaxPooling2D((2, 2)))\n",
    "    model.add(layers.Conv2D(128, (3, 3), activation='relu'))\n",
    "    model.add(layers.MaxPooling2D((2, 2)))\n",
    "    model.add(layers.Conv2D(256, (3, 3), activation='relu'))\n",
    "    model.add(layers.Flatten())\n",
    "    model.add(layers.Dense(512, activation='relu'))\n",
    "    model.add(layers.Dense(num_classes, activation='softmax'))\n",
    "\n",
    "    return model\n",
    "# Create the model\n",
    "diffusion_model = build_diffusion_model()\n",
    "\n",
    "# Define the learning rate\n",
    "learning_rate = 0.001  # You can adjust this value based on your requirements\n",
    "\n",
    "# Create an instance of the Adam optimizer with the specified learning rate\n",
    "adam_optimizer = tf.keras.optimizers.Adam(learning_rate=learning_rate)\n",
    "\n",
    "# Compile the model with the Adam optimizer\n",
    "diffusion_model.compile(optimizer=adam_optimizer,\n",
    "                        loss='sparse_categorical_crossentropy',\n",
    "                        metrics=['accuracy'],\n",
    "                        run_eagerly=True)\n",
    "\n",
    "\n",
    "\n",
    "diffusion_model.summary()"
   ]
  },
  {
   "cell_type": "code",
   "execution_count": 21,
   "id": "8b5db1b5",
   "metadata": {
    "scrolled": true
   },
   "outputs": [
    {
     "name": "stdout",
     "output_type": "stream",
     "text": [
      "Epoch 1/15\n",
      "17/17 [==============================] - 59s 3s/step - loss: 1459.5288 - accuracy: 0.0430 - val_loss: 3.4334 - val_accuracy: 0.0333 - lr: 0.0010\n",
      "Epoch 2/15\n",
      "17/17 [==============================] - 58s 3s/step - loss: 3.4355 - accuracy: 0.0318 - val_loss: 3.4337 - val_accuracy: 0.0167 - lr: 0.0010\n",
      "Epoch 3/15\n",
      "17/17 [==============================] - 59s 3s/step - loss: 3.4341 - accuracy: 0.0318 - val_loss: 3.4340 - val_accuracy: 0.0167 - lr: 0.0010\n",
      "Epoch 4/15\n",
      "17/17 [==============================] - 58s 3s/step - loss: 3.4339 - accuracy: 0.0206 - val_loss: 3.4348 - val_accuracy: 0.0333 - lr: 0.0010\n",
      "Epoch 5/15\n",
      "17/17 [==============================] - 58s 3s/step - loss: 3.4334 - accuracy: 0.0374 - val_loss: 3.4349 - val_accuracy: 0.0333 - lr: 5.0000e-04\n",
      "Epoch 6/15\n",
      "17/17 [==============================] - 58s 3s/step - loss: 3.4333 - accuracy: 0.0374 - val_loss: 3.4352 - val_accuracy: 0.0333 - lr: 5.0000e-04\n",
      "Epoch 7/15\n",
      "17/17 [==============================] - 58s 3s/step - loss: 3.4331 - accuracy: 0.0374 - val_loss: 3.4356 - val_accuracy: 0.0333 - lr: 5.0000e-04\n",
      "Epoch 8/15\n",
      "17/17 [==============================] - 59s 3s/step - loss: 3.4329 - accuracy: 0.0374 - val_loss: 3.4359 - val_accuracy: 0.0333 - lr: 2.5000e-04\n",
      "Epoch 9/15\n",
      "17/17 [==============================] - 58s 3s/step - loss: 3.4328 - accuracy: 0.0374 - val_loss: 3.4359 - val_accuracy: 0.0333 - lr: 2.5000e-04\n",
      "Epoch 10/15\n",
      "17/17 [==============================] - 59s 3s/step - loss: 3.4328 - accuracy: 0.0374 - val_loss: 3.4361 - val_accuracy: 0.0333 - lr: 2.5000e-04\n",
      "Epoch 11/15\n",
      "17/17 [==============================] - 59s 3s/step - loss: 3.4326 - accuracy: 0.0374 - val_loss: 3.4362 - val_accuracy: 0.0333 - lr: 1.2500e-04\n",
      "Epoch 12/15\n",
      "17/17 [==============================] - 59s 3s/step - loss: 3.4326 - accuracy: 0.0374 - val_loss: 3.4362 - val_accuracy: 0.0333 - lr: 1.2500e-04\n",
      "Epoch 13/15\n",
      "17/17 [==============================] - 59s 3s/step - loss: 3.4326 - accuracy: 0.0374 - val_loss: 3.4363 - val_accuracy: 0.0333 - lr: 1.2500e-04\n",
      "Epoch 14/15\n",
      "17/17 [==============================] - 59s 3s/step - loss: 3.4325 - accuracy: 0.0374 - val_loss: 3.4364 - val_accuracy: 0.0333 - lr: 6.2500e-05\n",
      "Epoch 15/15\n",
      "17/17 [==============================] - 59s 3s/step - loss: 3.4325 - accuracy: 0.0374 - val_loss: 3.4364 - val_accuracy: 0.0333 - lr: 6.2500e-05\n"
     ]
    }
   ],
   "source": [
    "from tensorflow.keras.callbacks import ReduceLROnPlateau\n",
    "rlp = ReduceLROnPlateau(factor=0.5, patience=3)  # Adjust parameters as needed\n",
    "\n",
    "history = diffusion_model.fit(\n",
    "    x_train, y_train,\n",
    "    epochs=15,\n",
    "    callbacks=[rlp],\n",
    "    validation_split=0.10\n",
    ")"
   ]
  },
  {
   "cell_type": "code",
   "execution_count": 22,
   "id": "68b06fc2",
   "metadata": {},
   "outputs": [
    {
     "data": {
      "text/plain": [
       "<matplotlib.legend.Legend at 0x25406b24280>"
      ]
     },
     "execution_count": 22,
     "metadata": {},
     "output_type": "execute_result"
    },
    {
     "data": {
      "image/png": "[encoded data removed]",
      "text/plain": [
       "<Figure size 640x480 with 1 Axes>"
      ]
     },
     "metadata": {},
     "output_type": "display_data"
    }
   ],
   "source": [
    "plt.subplot(211)\n",
    "plt.title('Loss')\n",
    "plt.plot(history.history['loss'], label='train')\n",
    "plt.plot(history.history['val_loss']\n",
    "         , label='test')\n",
    "plt.legend()"
   ]
  },
  {
   "cell_type": "code",
   "execution_count": 23,
   "id": "10b59045",
   "metadata": {},
   "outputs": [
    {
     "data": {
      "image/png": "[encoded data removed]",
      "text/plain": [
       "<Figure size 640x480 with 1 Axes>"
      ]
     },
     "metadata": {},
     "output_type": "display_data"
    }
   ],
   "source": [
    "plt.subplot(212)\n",
    "plt.title('Accuracy')\n",
    "plt.plot(history.history['accuracy'], label='train')\n",
    "plt.plot(history.history['val_accuracy'], label='test')\n",
    "plt.legend()\n",
    "plt.show()"
   ]
  },
  {
   "cell_type": "code",
   "execution_count": 24,
   "id": "5589080b",
   "metadata": {},
   "outputs": [
    {
     "data": {
      "text/plain": [
       "(149, 224, 224, 3)"
      ]
     },
     "execution_count": 24,
     "metadata": {},
     "output_type": "execute_result"
    }
   ],
   "source": [
    "x_test.shape"
   ]
  },
  {
   "cell_type": "code",
   "execution_count": 25,
   "id": "ce96096c",
   "metadata": {},
   "outputs": [
    {
     "data": {
      "text/plain": [
       "(149,)"
      ]
     },
     "execution_count": 25,
     "metadata": {},
     "output_type": "execute_result"
    }
   ],
   "source": [
    "y_test.shape"
   ]
  },
  {
   "cell_type": "code",
   "execution_count": 26,
   "id": "b6990833",
   "metadata": {},
   "outputs": [
    {
     "name": "stdout",
     "output_type": "stream",
     "text": [
      "5/5 [==============================] - 4s 812ms/step - loss: 3.4395 - accuracy: 0.0134\n",
      "Test Loss: 3.4395\n",
      "Test Accuracy: 0.0134\n",
      "5/5 [==============================] - 4s 816ms/step\n",
      "Classification Report:\n",
      "              precision    recall  f1-score   support\n",
      "\n",
      "           0       0.00      0.00      0.00         3\n",
      "           1       0.00      0.00      0.00         5\n",
      "           2       0.00      0.00      0.00         8\n",
      "           3       0.00      0.00      0.00         9\n",
      "           4       0.00      0.00      0.00         4\n",
      "           5       0.00      0.00      0.00         3\n",
      "           6       0.00      0.00      0.00         5\n",
      "           7       0.01      1.00      0.03         2\n",
      "           8       0.00      0.00      0.00         8\n",
      "           9       0.00      0.00      0.00         4\n",
      "          10       0.00      0.00      0.00         6\n",
      "          11       0.00      0.00      0.00         2\n",
      "          12       0.00      0.00      0.00         5\n",
      "          13       0.00      0.00      0.00         7\n",
      "          14       0.00      0.00      0.00         4\n",
      "          15       0.00      0.00      0.00         7\n",
      "          16       0.00      0.00      0.00         6\n",
      "          17       0.00      0.00      0.00         9\n",
      "          18       0.00      0.00      0.00         6\n",
      "          19       0.00      0.00      0.00         2\n",
      "          20       0.00      0.00      0.00         4\n",
      "          21       0.00      0.00      0.00         4\n",
      "          22       0.00      0.00      0.00         4\n",
      "          23       0.00      0.00      0.00         3\n",
      "          24       0.00      0.00      0.00         5\n",
      "          25       0.00      0.00      0.00         6\n",
      "          26       0.00      0.00      0.00         3\n",
      "          27       0.00      0.00      0.00         3\n",
      "          28       0.00      0.00      0.00         4\n",
      "          29       0.00      0.00      0.00         3\n",
      "          30       0.00      0.00      0.00         5\n",
      "\n",
      "    accuracy                           0.01       149\n",
      "   macro avg       0.00      0.03      0.00       149\n",
      "weighted avg       0.00      0.01      0.00       149\n",
      "\n",
      "Confusion Matrix:\n",
      "[[0 0 0 0 0 0 0 3 0 0 0 0 0 0 0 0 0 0 0 0 0 0 0 0 0 0 0 0 0 0 0]\n",
      " [0 0 0 0 0 0 0 5 0 0 0 0 0 0 0 0 0 0 0 0 0 0 0 0 0 0 0 0 0 0 0]\n",
      " [0 0 0 0 0 0 0 8 0 0 0 0 0 0 0 0 0 0 0 0 0 0 0 0 0 0 0 0 0 0 0]\n",
      " [0 0 0 0 0 0 0 9 0 0 0 0 0 0 0 0 0 0 0 0 0 0 0 0 0 0 0 0 0 0 0]\n",
      " [0 0 0 0 0 0 0 4 0 0 0 0 0 0 0 0 0 0 0 0 0 0 0 0 0 0 0 0 0 0 0]\n",
      " [0 0 0 0 0 0 0 3 0 0 0 0 0 0 0 0 0 0 0 0 0 0 0 0 0 0 0 0 0 0 0]\n",
      " [0 0 0 0 0 0 0 5 0 0 0 0 0 0 0 0 0 0 0 0 0 0 0 0 0 0 0 0 0 0 0]\n",
      " [0 0 0 0 0 0 0 2 0 0 0 0 0 0 0 0 0 0 0 0 0 0 0 0 0 0 0 0 0 0 0]\n",
      " [0 0 0 0 0 0 0 8 0 0 0 0 0 0 0 0 0 0 0 0 0 0 0 0 0 0 0 0 0 0 0]\n",
      " [0 0 0 0 0 0 0 4 0 0 0 0 0 0 0 0 0 0 0 0 0 0 0 0 0 0 0 0 0 0 0]\n",
      " [0 0 0 0 0 0 0 6 0 0 0 0 0 0 0 0 0 0 0 0 0 0 0 0 0 0 0 0 0 0 0]\n",
      " [0 0 0 0 0 0 0 2 0 0 0 0 0 0 0 0 0 0 0 0 0 0 0 0 0 0 0 0 0 0 0]\n",
      " [0 0 0 0 0 0 0 5 0 0 0 0 0 0 0 0 0 0 0 0 0 0 0 0 0 0 0 0 0 0 0]\n",
      " [0 0 0 0 0 0 0 7 0 0 0 0 0 0 0 0 0 0 0 0 0 0 0 0 0 0 0 0 0 0 0]\n",
      " [0 0 0 0 0 0 0 4 0 0 0 0 0 0 0 0 0 0 0 0 0 0 0 0 0 0 0 0 0 0 0]\n",
      " [0 0 0 0 0 0 0 7 0 0 0 0 0 0 0 0 0 0 0 0 0 0 0 0 0 0 0 0 0 0 0]\n",
      " [0 0 0 0 0 0 0 6 0 0 0 0 0 0 0 0 0 0 0 0 0 0 0 0 0 0 0 0 0 0 0]\n",
      " [0 0 0 0 0 0 0 9 0 0 0 0 0 0 0 0 0 0 0 0 0 0 0 0 0 0 0 0 0 0 0]\n",
      " [0 0 0 0 0 0 0 6 0 0 0 0 0 0 0 0 0 0 0 0 0 0 0 0 0 0 0 0 0 0 0]\n",
      " [0 0 0 0 0 0 0 2 0 0 0 0 0 0 0 0 0 0 0 0 0 0 0 0 0 0 0 0 0 0 0]\n",
      " [0 0 0 0 0 0 0 4 0 0 0 0 0 0 0 0 0 0 0 0 0 0 0 0 0 0 0 0 0 0 0]\n",
      " [0 0 0 0 0 0 0 4 0 0 0 0 0 0 0 0 0 0 0 0 0 0 0 0 0 0 0 0 0 0 0]\n",
      " [0 0 0 0 0 0 0 4 0 0 0 0 0 0 0 0 0 0 0 0 0 0 0 0 0 0 0 0 0 0 0]\n",
      " [0 0 0 0 0 0 0 3 0 0 0 0 0 0 0 0 0 0 0 0 0 0 0 0 0 0 0 0 0 0 0]\n",
      " [0 0 0 0 0 0 0 5 0 0 0 0 0 0 0 0 0 0 0 0 0 0 0 0 0 0 0 0 0 0 0]\n",
      " [0 0 0 0 0 0 0 6 0 0 0 0 0 0 0 0 0 0 0 0 0 0 0 0 0 0 0 0 0 0 0]\n",
      " [0 0 0 0 0 0 0 3 0 0 0 0 0 0 0 0 0 0 0 0 0 0 0 0 0 0 0 0 0 0 0]\n",
      " [0 0 0 0 0 0 0 3 0 0 0 0 0 0 0 0 0 0 0 0 0 0 0 0 0 0 0 0 0 0 0]\n",
      " [0 0 0 0 0 0 0 4 0 0 0 0 0 0 0 0 0 0 0 0 0 0 0 0 0 0 0 0 0 0 0]\n",
      " [0 0 0 0 0 0 0 3 0 0 0 0 0 0 0 0 0 0 0 0 0 0 0 0 0 0 0 0 0 0 0]\n",
      " [0 0 0 0 0 0 0 5 0 0 0 0 0 0 0 0 0 0 0 0 0 0 0 0 0 0 0 0 0 0 0]]\n"
     ]
    },
    {
     "name": "stderr",
     "output_type": "stream",
     "text": [
      "C:\\Users\\nehag\\anaconda3\\lib\\site-packages\\sklearn\\metrics\\_classification.py:1471: UndefinedMetricWarning: Precision and F-score are ill-defined and being set to 0.0 in labels with no predicted samples. Use `zero_division` parameter to control this behavior.\n",
      "  _warn_prf(average, modifier, msg_start, len(result))\n",
      "C:\\Users\\nehag\\anaconda3\\lib\\site-packages\\sklearn\\metrics\\_classification.py:1471: UndefinedMetricWarning: Precision and F-score are ill-defined and being set to 0.0 in labels with no predicted samples. Use `zero_division` parameter to control this behavior.\n",
      "  _warn_prf(average, modifier, msg_start, len(result))\n",
      "C:\\Users\\nehag\\anaconda3\\lib\\site-packages\\sklearn\\metrics\\_classification.py:1471: UndefinedMetricWarning: Precision and F-score are ill-defined and being set to 0.0 in labels with no predicted samples. Use `zero_division` parameter to control this behavior.\n",
      "  _warn_prf(average, modifier, msg_start, len(result))\n"
     ]
    }
   ],
   "source": [
    "import tensorflow as tf\n",
    "from sklearn.metrics import classification_report, confusion_matrix\n",
    "import numpy as np\n",
    "\n",
    "# Assuming you have your model defined, data loaded (x_test, y_test), and model trained\n",
    "\n",
    "# Evaluate the model on the test set\n",
    "test_loss, test_accuracy = diffusion_model.evaluate(x_test, y_test)\n",
    "print(f'Test Loss: {test_loss:.4f}')\n",
    "print(f'Test Accuracy: {test_accuracy:.4f}')\n",
    "\n",
    "# Make predictions on the test set\n",
    "y_pred_probs = diffusion_model.predict(x_test)\n",
    "y_pred = np.argmax(y_pred_probs, axis=1)\n",
    "\n",
    "# Convert true labels to class indices if needed\n",
    "y_true = np.argmax(y_test, axis=1) if len(y_test.shape) > 1 else y_test\n",
    "\n",
    "# Print classification report\n",
    "print(\"Classification Report:\")\n",
    "print(classification_report(y_true, y_pred))\n",
    "\n",
    "# Calculate and print confusion matrix\n",
    "conf_mat = confusion_matrix(y_true, y_pred)\n",
    "print(\"Confusion Matrix:\")\n",
    "print(conf_mat)\n"
   ]
  },
  {
   "cell_type": "code",
   "execution_count": 27,
   "id": "2ce3074b",
   "metadata": {},
   "outputs": [
    {
     "name": "stdout",
     "output_type": "stream",
     "text": [
      "5/5 [==============================] - 4s 818ms/step - loss: 3.4395 - accuracy: 0.0134\n",
      "Test Loss: 3.4395\n",
      "Test Accuracy: 0.0134\n",
      "5/5 [==============================] - 4s 818ms/step\n",
      "Classification Report:\n",
      "              precision    recall  f1-score   support\n",
      "\n",
      "           0       0.00      0.00      0.00         3\n",
      "           1       0.00      0.00      0.00         5\n",
      "           2       0.00      0.00      0.00         8\n",
      "           3       0.00      0.00      0.00         9\n",
      "           4       0.00      0.00      0.00         4\n",
      "           5       0.00      0.00      0.00         3\n",
      "           6       0.00      0.00      0.00         5\n",
      "           7       0.01      1.00      0.03         2\n",
      "           8       0.00      0.00      0.00         8\n",
      "           9       0.00      0.00      0.00         4\n",
      "          10       0.00      0.00      0.00         6\n",
      "          11       0.00      0.00      0.00         2\n",
      "          12       0.00      0.00      0.00         5\n",
      "          13       0.00      0.00      0.00         7\n",
      "          14       0.00      0.00      0.00         4\n",
      "          15       0.00      0.00      0.00         7\n",
      "          16       0.00      0.00      0.00         6\n",
      "          17       0.00      0.00      0.00         9\n",
      "          18       0.00      0.00      0.00         6\n",
      "          19       0.00      0.00      0.00         2\n",
      "          20       0.00      0.00      0.00         4\n",
      "          21       0.00      0.00      0.00         4\n",
      "          22       0.00      0.00      0.00         4\n",
      "          23       0.00      0.00      0.00         3\n",
      "          24       0.00      0.00      0.00         5\n",
      "          25       0.00      0.00      0.00         6\n",
      "          26       0.00      0.00      0.00         3\n",
      "          27       0.00      0.00      0.00         3\n",
      "          28       0.00      0.00      0.00         4\n",
      "          29       0.00      0.00      0.00         3\n",
      "          30       0.00      0.00      0.00         5\n",
      "\n",
      "    accuracy                           0.01       149\n",
      "   macro avg       0.00      0.03      0.00       149\n",
      "weighted avg       0.00      0.01      0.00       149\n",
      "\n",
      "Confusion Matrix:\n",
      "[[0 0 0 0 0 0 0 3 0 0 0 0 0 0 0 0 0 0 0 0 0 0 0 0 0 0 0 0 0 0 0]\n",
      " [0 0 0 0 0 0 0 5 0 0 0 0 0 0 0 0 0 0 0 0 0 0 0 0 0 0 0 0 0 0 0]\n",
      " [0 0 0 0 0 0 0 8 0 0 0 0 0 0 0 0 0 0 0 0 0 0 0 0 0 0 0 0 0 0 0]\n",
      " [0 0 0 0 0 0 0 9 0 0 0 0 0 0 0 0 0 0 0 0 0 0 0 0 0 0 0 0 0 0 0]\n",
      " [0 0 0 0 0 0 0 4 0 0 0 0 0 0 0 0 0 0 0 0 0 0 0 0 0 0 0 0 0 0 0]\n",
      " [0 0 0 0 0 0 0 3 0 0 0 0 0 0 0 0 0 0 0 0 0 0 0 0 0 0 0 0 0 0 0]\n",
      " [0 0 0 0 0 0 0 5 0 0 0 0 0 0 0 0 0 0 0 0 0 0 0 0 0 0 0 0 0 0 0]\n",
      " [0 0 0 0 0 0 0 2 0 0 0 0 0 0 0 0 0 0 0 0 0 0 0 0 0 0 0 0 0 0 0]\n",
      " [0 0 0 0 0 0 0 8 0 0 0 0 0 0 0 0 0 0 0 0 0 0 0 0 0 0 0 0 0 0 0]\n",
      " [0 0 0 0 0 0 0 4 0 0 0 0 0 0 0 0 0 0 0 0 0 0 0 0 0 0 0 0 0 0 0]\n",
      " [0 0 0 0 0 0 0 6 0 0 0 0 0 0 0 0 0 0 0 0 0 0 0 0 0 0 0 0 0 0 0]\n",
      " [0 0 0 0 0 0 0 2 0 0 0 0 0 0 0 0 0 0 0 0 0 0 0 0 0 0 0 0 0 0 0]\n",
      " [0 0 0 0 0 0 0 5 0 0 0 0 0 0 0 0 0 0 0 0 0 0 0 0 0 0 0 0 0 0 0]\n",
      " [0 0 0 0 0 0 0 7 0 0 0 0 0 0 0 0 0 0 0 0 0 0 0 0 0 0 0 0 0 0 0]\n",
      " [0 0 0 0 0 0 0 4 0 0 0 0 0 0 0 0 0 0 0 0 0 0 0 0 0 0 0 0 0 0 0]\n",
      " [0 0 0 0 0 0 0 7 0 0 0 0 0 0 0 0 0 0 0 0 0 0 0 0 0 0 0 0 0 0 0]\n",
      " [0 0 0 0 0 0 0 6 0 0 0 0 0 0 0 0 0 0 0 0 0 0 0 0 0 0 0 0 0 0 0]\n",
      " [0 0 0 0 0 0 0 9 0 0 0 0 0 0 0 0 0 0 0 0 0 0 0 0 0 0 0 0 0 0 0]\n",
      " [0 0 0 0 0 0 0 6 0 0 0 0 0 0 0 0 0 0 0 0 0 0 0 0 0 0 0 0 0 0 0]\n",
      " [0 0 0 0 0 0 0 2 0 0 0 0 0 0 0 0 0 0 0 0 0 0 0 0 0 0 0 0 0 0 0]\n",
      " [0 0 0 0 0 0 0 4 0 0 0 0 0 0 0 0 0 0 0 0 0 0 0 0 0 0 0 0 0 0 0]\n",
      " [0 0 0 0 0 0 0 4 0 0 0 0 0 0 0 0 0 0 0 0 0 0 0 0 0 0 0 0 0 0 0]\n",
      " [0 0 0 0 0 0 0 4 0 0 0 0 0 0 0 0 0 0 0 0 0 0 0 0 0 0 0 0 0 0 0]\n",
      " [0 0 0 0 0 0 0 3 0 0 0 0 0 0 0 0 0 0 0 0 0 0 0 0 0 0 0 0 0 0 0]\n",
      " [0 0 0 0 0 0 0 5 0 0 0 0 0 0 0 0 0 0 0 0 0 0 0 0 0 0 0 0 0 0 0]\n",
      " [0 0 0 0 0 0 0 6 0 0 0 0 0 0 0 0 0 0 0 0 0 0 0 0 0 0 0 0 0 0 0]\n",
      " [0 0 0 0 0 0 0 3 0 0 0 0 0 0 0 0 0 0 0 0 0 0 0 0 0 0 0 0 0 0 0]\n",
      " [0 0 0 0 0 0 0 3 0 0 0 0 0 0 0 0 0 0 0 0 0 0 0 0 0 0 0 0 0 0 0]\n",
      " [0 0 0 0 0 0 0 4 0 0 0 0 0 0 0 0 0 0 0 0 0 0 0 0 0 0 0 0 0 0 0]\n",
      " [0 0 0 0 0 0 0 3 0 0 0 0 0 0 0 0 0 0 0 0 0 0 0 0 0 0 0 0 0 0 0]\n",
      " [0 0 0 0 0 0 0 5 0 0 0 0 0 0 0 0 0 0 0 0 0 0 0 0 0 0 0 0 0 0 0]]\n",
      "Accuracy: 0.0134\n",
      "Sensibility: 0.0134\n",
      "Precision: 0.0002\n",
      "Recall: 0.0134\n",
      "F1 Score: 0.0004\n"
     ]
    },
    {
     "name": "stderr",
     "output_type": "stream",
     "text": [
      "C:\\Users\\nehag\\anaconda3\\lib\\site-packages\\sklearn\\metrics\\_classification.py:1471: UndefinedMetricWarning: Precision and F-score are ill-defined and being set to 0.0 in labels with no predicted samples. Use `zero_division` parameter to control this behavior.\n",
      "  _warn_prf(average, modifier, msg_start, len(result))\n",
      "C:\\Users\\nehag\\anaconda3\\lib\\site-packages\\sklearn\\metrics\\_classification.py:1471: UndefinedMetricWarning: Precision and F-score are ill-defined and being set to 0.0 in labels with no predicted samples. Use `zero_division` parameter to control this behavior.\n",
      "  _warn_prf(average, modifier, msg_start, len(result))\n",
      "C:\\Users\\nehag\\anaconda3\\lib\\site-packages\\sklearn\\metrics\\_classification.py:1471: UndefinedMetricWarning: Precision and F-score are ill-defined and being set to 0.0 in labels with no predicted samples. Use `zero_division` parameter to control this behavior.\n",
      "  _warn_prf(average, modifier, msg_start, len(result))\n",
      "C:\\Users\\nehag\\anaconda3\\lib\\site-packages\\sklearn\\metrics\\_classification.py:1471: UndefinedMetricWarning: Precision and F-score are ill-defined and being set to 0.0 in labels with no predicted samples. Use `zero_division` parameter to control this behavior.\n",
      "  _warn_prf(average, modifier, msg_start, len(result))\n",
      "C:\\Users\\nehag\\anaconda3\\lib\\site-packages\\sklearn\\metrics\\_classification.py:1471: UndefinedMetricWarning: Precision and F-score are ill-defined and being set to 0.0 in labels with no predicted samples. Use `zero_division` parameter to control this behavior.\n",
      "  _warn_prf(average, modifier, msg_start, len(result))\n",
      "C:\\Users\\nehag\\anaconda3\\lib\\site-packages\\sklearn\\metrics\\_classification.py:1471: UndefinedMetricWarning: Precision and F-score are ill-defined and being set to 0.0 in labels with no predicted samples. Use `zero_division` parameter to control this behavior.\n",
      "  _warn_prf(average, modifier, msg_start, len(result))\n",
      "C:\\Users\\nehag\\anaconda3\\lib\\site-packages\\sklearn\\metrics\\_classification.py:1471: UndefinedMetricWarning: Precision and F-score are ill-defined and being set to 0.0 in labels with no predicted samples. Use `zero_division` parameter to control this behavior.\n",
      "  _warn_prf(average, modifier, msg_start, len(result))\n",
      "C:\\Users\\nehag\\anaconda3\\lib\\site-packages\\sklearn\\metrics\\_classification.py:1471: UndefinedMetricWarning: Precision and F-score are ill-defined and being set to 0.0 in labels with no predicted samples. Use `zero_division` parameter to control this behavior.\n",
      "  _warn_prf(average, modifier, msg_start, len(result))\n",
      "C:\\Users\\nehag\\anaconda3\\lib\\site-packages\\sklearn\\metrics\\_classification.py:1471: UndefinedMetricWarning: Precision and F-score are ill-defined and being set to 0.0 in labels with no predicted samples. Use `zero_division` parameter to control this behavior.\n",
      "  _warn_prf(average, modifier, msg_start, len(result))\n",
      "C:\\Users\\nehag\\anaconda3\\lib\\site-packages\\sklearn\\metrics\\_classification.py:1471: UndefinedMetricWarning: Precision and F-score are ill-defined and being set to 0.0 in labels with no predicted samples. Use `zero_division` parameter to control this behavior.\n",
      "  _warn_prf(average, modifier, msg_start, len(result))\n",
      "C:\\Users\\nehag\\anaconda3\\lib\\site-packages\\sklearn\\metrics\\_classification.py:1471: UndefinedMetricWarning: Precision and F-score are ill-defined and being set to 0.0 in labels with no predicted samples. Use `zero_division` parameter to control this behavior.\n",
      "  _warn_prf(average, modifier, msg_start, len(result))\n",
      "C:\\Users\\nehag\\anaconda3\\lib\\site-packages\\sklearn\\metrics\\_classification.py:1471: UndefinedMetricWarning: Precision and F-score are ill-defined and being set to 0.0 in labels with no predicted samples. Use `zero_division` parameter to control this behavior.\n",
      "  _warn_prf(average, modifier, msg_start, len(result))\n"
     ]
    }
   ],
   "source": [
    "import os\n",
    "import matplotlib.pyplot as plt\n",
    "import tensorflow as tf\n",
    "from sklearn.metrics import classification_report, confusion_matrix\n",
    "import numpy as np\n",
    "\n",
    "# Assuming you have your model defined, data loaded (x_test, y_test), and model trained\n",
    "\n",
    "# Evaluate the model on the test set\n",
    "test_loss, test_accuracy = diffusion_model.evaluate(x_test, y_test)\n",
    "print(f'Test Loss: {test_loss:.4f}')\n",
    "print(f'Test Accuracy: {test_accuracy:.4f}')\n",
    "\n",
    "# Make predictions on the test set\n",
    "y_pred_probs = diffusion_model.predict(x_test)\n",
    "y_pred = np.argmax(y_pred_probs, axis=1)\n",
    "\n",
    "# Convert true labels to class indices if needed\n",
    "y_true = np.argmax(y_test, axis=1) if len(y_test.shape) > 1 else y_test\n",
    "\n",
    "# Print classification report\n",
    "print(\"Classification Report:\")\n",
    "print(classification_report(y_true, y_pred))\n",
    "\n",
    "# Calculate and print confusion matrix\n",
    "conf_mat = confusion_matrix(y_true, y_pred)\n",
    "print(\"Confusion Matrix:\")\n",
    "print(conf_mat)\n",
    "\n",
    "# Extract precision, recall, and F1-score from the classification report\n",
    "precision = classification_report(y_true, y_pred, output_dict=True)['weighted avg']['precision']\n",
    "recall = classification_report(y_true, y_pred, output_dict=True)['weighted avg']['recall']\n",
    "f1_score = classification_report(y_true, y_pred, output_dict=True)['weighted avg']['f1-score']\n",
    "\n",
    "# Calculate accuracy and sensibility\n",
    "accuracy = np.sum(y_true == y_pred) / len(y_true)\n",
    "sensibility = recall  # Sensibility is the same as recall in binary classification\n",
    "\n",
    "# Print accuracy, sensibility, precision, recall, and F1-score\n",
    "print(f'Accuracy: {accuracy:.4f}')\n",
    "print(f'Sensibility: {sensibility:.4f}')\n",
    "print(f'Precision: {precision:.4f}')\n",
    "print(f'Recall: {recall:.4f}')\n",
    "print(f'F1 Score: {f1_score:.4f}')"
   ]
  },
  {
   "cell_type": "code",
   "execution_count": null,
   "id": "3da533fd",
   "metadata": {},
   "outputs": [],
   "source": []
  }
 ],
 "metadata": {
  "kernelspec": {
   "display_name": "Python 3 (ipykernel)",
   "language": "python",
   "name": "python3"
  },
  "language_info": {
   "codemirror_mode": {
    "name": "ipython",
    "version": 3
   },
   "file_extension": ".py",
   "mimetype": "text/x-python",
   "name": "python",
   "nbconvert_exporter": "python",
   "pygments_lexer": "ipython3",
   "version": "3.10.9"
  }
 },
 "nbformat": 4,
 "nbformat_minor": 5
}
